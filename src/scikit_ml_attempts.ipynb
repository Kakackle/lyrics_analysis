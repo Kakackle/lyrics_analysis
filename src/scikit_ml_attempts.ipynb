{
 "cells": [
  {
   "cell_type": "markdown",
   "id": "e687bdb1-0757-4c1b-a96c-2c9014e31169",
   "metadata": {},
   "source": [
    "## Scikit-learn / ML attempts\n",
    "\n",
    "Specifically:\n",
    "* **Classification** of **genre** based on numerical data, gender, ...\n",
    "* **Classification** of **gender** based on numerical data, genre, ... - watch out, very unbalanced\n",
    "* **Classification** of **artist** based on numerical data, gendre, gender?, ...\n",
    "* **Classification** of **genre** for groupby mean data\n",
    "* **Regression** of **unique_words, total_words, topic count** etc\n",
    "* Same things for decade data except no gender and decade classification instead of genre "
   ]
  },
  {
   "cell_type": "code",
   "execution_count": 1,
   "id": "d010a991-bf1b-424a-93be-06b372e5bcf0",
   "metadata": {},
   "outputs": [],
   "source": [
    "import pandas as pd\n",
    "import numpy as np\n",
    "# Metrics for Evaluation of model Accuracy and F1-score\n",
    "from sklearn.metrics  import f1_score,accuracy_score, confusion_matrix, classification_report, ConfusionMatrixDisplay\n",
    "# regression metrics\n",
    "\n",
    "# For splitting of data into train and test set\n",
    "from sklearn.model_selection import train_test_split\n",
    "# for categorical columns\n",
    "from sklearn.preprocessing import OneHotEncoder, StandardScaler\n",
    "from sklearn.metrics import mean_absolute_error, r2_score\n",
    "\n",
    "# classification\n",
    "from sklearn.svm import SVC\n",
    "from sklearn.neighbors import KNeighborsClassifier\n",
    "from sklearn.ensemble import RandomForestClassifier\n",
    "\n",
    "# regression\n",
    "from sklearn.linear_model import LinearRegression\n",
    "from xgboost.sklearn import XGBRegressor\n",
    "from sklearn.svm import SVR\n",
    "\n",
    "import matplotlib.pyplot as plt\n",
    "\n",
    "from sklearn.compose import ColumnTransformer\n",
    "from sklearn.pipeline import Pipeline"
   ]
  },
  {
   "cell_type": "markdown",
   "id": "ab2862bf",
   "metadata": {},
   "source": [
    "Paths below need updating"
   ]
  },
  {
   "cell_type": "code",
   "execution_count": 2,
   "id": "9336842e-972e-47f9-ad48-a0c8089c3248",
   "metadata": {},
   "outputs": [],
   "source": [
    "counts_df = pd.read_csv('./dataframes/with_counts/combined_count.csv', index_col = 0)\n",
    "genre_mean_df = pd.read_csv('./dataframes/group_stats/genre_mean_df.csv', index_col = 0)\n",
    "artist_genre_mean_df = pd.read_csv('./dataframes/group_stats/mean/combined_artists.csv', index_col = 0)\n",
    "decades_counts_df = pd.read_csv('./decade_dataframes/decades_counts.csv', index_col = 0)\n",
    "decades_mean_df = pd.read_csv('./decade_dataframes/decade_groupby_mean.csv', index_col = 0)"
   ]
  },
  {
   "cell_type": "code",
   "execution_count": 3,
   "id": "e012e692-3605-4184-9943-05ca98ba9da3",
   "metadata": {
    "scrolled": true
   },
   "outputs": [
    {
     "data": {
      "text/html": [
       "<div>\n",
       "<style scoped>\n",
       "    .dataframe tbody tr th:only-of-type {\n",
       "        vertical-align: middle;\n",
       "    }\n",
       "\n",
       "    .dataframe tbody tr th {\n",
       "        vertical-align: top;\n",
       "    }\n",
       "\n",
       "    .dataframe thead th {\n",
       "        text-align: right;\n",
       "    }\n",
       "</style>\n",
       "<table border=\"1\" class=\"dataframe\">\n",
       "  <thead>\n",
       "    <tr style=\"text-align: right;\">\n",
       "      <th></th>\n",
       "      <th>Artist</th>\n",
       "      <th>Song Title</th>\n",
       "      <th>Full Title</th>\n",
       "      <th>Release Date</th>\n",
       "      <th>Year</th>\n",
       "      <th>Month</th>\n",
       "      <th>Day</th>\n",
       "      <th>Pageviews</th>\n",
       "      <th>url</th>\n",
       "      <th>featured_count</th>\n",
       "      <th>...</th>\n",
       "      <th>VBD</th>\n",
       "      <th>VBG</th>\n",
       "      <th>VBN</th>\n",
       "      <th>VBP</th>\n",
       "      <th>VBZ</th>\n",
       "      <th>WDT</th>\n",
       "      <th>WP</th>\n",
       "      <th>WP$</th>\n",
       "      <th>WRB</th>\n",
       "      <th>emotion</th>\n",
       "    </tr>\n",
       "  </thead>\n",
       "  <tbody>\n",
       "    <tr>\n",
       "      <th>0</th>\n",
       "      <td>Aaliyah</td>\n",
       "      <td>Are You That Somebody?</td>\n",
       "      <td>Are You That Somebody? by Aaliyah (Ft. Timbaland)</td>\n",
       "      <td>1998-05-26</td>\n",
       "      <td>1998.0</td>\n",
       "      <td>5.0</td>\n",
       "      <td>26.0</td>\n",
       "      <td>373960</td>\n",
       "      <td>https://genius.com/Aaliyah-are-you-that-somebo...</td>\n",
       "      <td>1</td>\n",
       "      <td>...</td>\n",
       "      <td>5</td>\n",
       "      <td>5</td>\n",
       "      <td>4</td>\n",
       "      <td>26</td>\n",
       "      <td>14</td>\n",
       "      <td>1</td>\n",
       "      <td>1</td>\n",
       "      <td>1</td>\n",
       "      <td>1</td>\n",
       "      <td>sadness</td>\n",
       "    </tr>\n",
       "    <tr>\n",
       "      <th>1</th>\n",
       "      <td>Aaliyah</td>\n",
       "      <td>Enough Said</td>\n",
       "      <td>Enough Said by Aaliyah (Ft. Drake)</td>\n",
       "      <td>2012-08-05</td>\n",
       "      <td>2012.0</td>\n",
       "      <td>8.0</td>\n",
       "      <td>5.0</td>\n",
       "      <td>316333</td>\n",
       "      <td>https://genius.com/Aaliyah-enough-said-lyrics</td>\n",
       "      <td>1</td>\n",
       "      <td>...</td>\n",
       "      <td>5</td>\n",
       "      <td>5</td>\n",
       "      <td>4</td>\n",
       "      <td>26</td>\n",
       "      <td>14</td>\n",
       "      <td>1</td>\n",
       "      <td>1</td>\n",
       "      <td>1</td>\n",
       "      <td>1</td>\n",
       "      <td>anger</td>\n",
       "    </tr>\n",
       "    <tr>\n",
       "      <th>2</th>\n",
       "      <td>Aaliyah</td>\n",
       "      <td>At Your Best (You Are Love)</td>\n",
       "      <td>At Your Best (You Are Love) by Aaliyah</td>\n",
       "      <td>1994-08-22</td>\n",
       "      <td>1994.0</td>\n",
       "      <td>8.0</td>\n",
       "      <td>22.0</td>\n",
       "      <td>285549</td>\n",
       "      <td>https://genius.com/Aaliyah-at-your-best-you-ar...</td>\n",
       "      <td>0</td>\n",
       "      <td>...</td>\n",
       "      <td>5</td>\n",
       "      <td>5</td>\n",
       "      <td>4</td>\n",
       "      <td>26</td>\n",
       "      <td>14</td>\n",
       "      <td>1</td>\n",
       "      <td>1</td>\n",
       "      <td>1</td>\n",
       "      <td>1</td>\n",
       "      <td>sadness</td>\n",
       "    </tr>\n",
       "    <tr>\n",
       "      <th>3</th>\n",
       "      <td>Aaliyah</td>\n",
       "      <td>Miss You</td>\n",
       "      <td>Miss You by Aaliyah</td>\n",
       "      <td>2002-11-16</td>\n",
       "      <td>2002.0</td>\n",
       "      <td>11.0</td>\n",
       "      <td>16.0</td>\n",
       "      <td>245608</td>\n",
       "      <td>https://genius.com/Aaliyah-miss-you-lyrics</td>\n",
       "      <td>0</td>\n",
       "      <td>...</td>\n",
       "      <td>5</td>\n",
       "      <td>5</td>\n",
       "      <td>4</td>\n",
       "      <td>26</td>\n",
       "      <td>14</td>\n",
       "      <td>1</td>\n",
       "      <td>1</td>\n",
       "      <td>1</td>\n",
       "      <td>1</td>\n",
       "      <td>sadness</td>\n",
       "    </tr>\n",
       "    <tr>\n",
       "      <th>4</th>\n",
       "      <td>Aaliyah</td>\n",
       "      <td>Age Ain’t Nothing But a Number</td>\n",
       "      <td>Age Ain't Nothing But a Number by Aaliyah</td>\n",
       "      <td>1994-12-06</td>\n",
       "      <td>1994.0</td>\n",
       "      <td>12.0</td>\n",
       "      <td>6.0</td>\n",
       "      <td>207419</td>\n",
       "      <td>https://genius.com/Aaliyah-age-aint-nothing-bu...</td>\n",
       "      <td>0</td>\n",
       "      <td>...</td>\n",
       "      <td>5</td>\n",
       "      <td>5</td>\n",
       "      <td>4</td>\n",
       "      <td>26</td>\n",
       "      <td>14</td>\n",
       "      <td>1</td>\n",
       "      <td>1</td>\n",
       "      <td>1</td>\n",
       "      <td>1</td>\n",
       "      <td>joy</td>\n",
       "    </tr>\n",
       "  </tbody>\n",
       "</table>\n",
       "<p>5 rows × 73 columns</p>\n",
       "</div>"
      ],
      "text/plain": [
       "    Artist                      Song Title  \\\n",
       "0  Aaliyah          Are You That Somebody?   \n",
       "1  Aaliyah                     Enough Said   \n",
       "2  Aaliyah     At Your Best (You Are Love)   \n",
       "3  Aaliyah                        Miss You   \n",
       "4  Aaliyah  Age Ain’t Nothing But a Number   \n",
       "\n",
       "                                          Full Title Release Date    Year  \\\n",
       "0  Are You That Somebody? by Aaliyah (Ft. Timbaland)   1998-05-26  1998.0   \n",
       "1                 Enough Said by Aaliyah (Ft. Drake)   2012-08-05  2012.0   \n",
       "2             At Your Best (You Are Love) by Aaliyah   1994-08-22  1994.0   \n",
       "3                                Miss You by Aaliyah   2002-11-16  2002.0   \n",
       "4          Age Ain't Nothing But a Number by Aaliyah   1994-12-06  1994.0   \n",
       "\n",
       "   Month   Day  Pageviews                                                url  \\\n",
       "0    5.0  26.0     373960  https://genius.com/Aaliyah-are-you-that-somebo...   \n",
       "1    8.0   5.0     316333      https://genius.com/Aaliyah-enough-said-lyrics   \n",
       "2    8.0  22.0     285549  https://genius.com/Aaliyah-at-your-best-you-ar...   \n",
       "3   11.0  16.0     245608         https://genius.com/Aaliyah-miss-you-lyrics   \n",
       "4   12.0   6.0     207419  https://genius.com/Aaliyah-age-aint-nothing-bu...   \n",
       "\n",
       "   featured_count  ...  VBD  VBG VBN VBP VBZ WDT  WP  WP$  WRB  emotion  \n",
       "0               1  ...    5    5   4  26  14   1   1    1    1  sadness  \n",
       "1               1  ...    5    5   4  26  14   1   1    1    1    anger  \n",
       "2               0  ...    5    5   4  26  14   1   1    1    1  sadness  \n",
       "3               0  ...    5    5   4  26  14   1   1    1    1  sadness  \n",
       "4               0  ...    5    5   4  26  14   1   1    1    1      joy  \n",
       "\n",
       "[5 rows x 73 columns]"
      ]
     },
     "execution_count": 3,
     "metadata": {},
     "output_type": "execute_result"
    }
   ],
   "source": [
    "counts_df.head()"
   ]
  },
  {
   "cell_type": "code",
   "execution_count": 4,
   "id": "a81b8ba2-3b5b-4090-b3da-fd2124466d9f",
   "metadata": {
    "scrolled": true
   },
   "outputs": [
    {
     "name": "stdout",
     "output_type": "stream",
     "text": [
      "<class 'pandas.core.frame.DataFrame'>\n",
      "Index: 800 entries, 0 to 799\n",
      "Data columns (total 73 columns):\n",
      " #   Column                        Non-Null Count  Dtype  \n",
      "---  ------                        --------------  -----  \n",
      " 0   Artist                        800 non-null    object \n",
      " 1   Song Title                    800 non-null    object \n",
      " 2   Full Title                    800 non-null    object \n",
      " 3   Release Date                  686 non-null    object \n",
      " 4   Year                          794 non-null    float64\n",
      " 5   Month                         751 non-null    float64\n",
      " 6   Day                           686 non-null    float64\n",
      " 7   Pageviews                     800 non-null    int64  \n",
      " 8   url                           800 non-null    object \n",
      " 9   featured_count                800 non-null    int64  \n",
      " 10  producer_count                800 non-null    int64  \n",
      " 11  writer_count                  800 non-null    int64  \n",
      " 12  Song Lyrics                   800 non-null    object \n",
      " 13  Artist Image                  800 non-null    object \n",
      " 14  gender                        800 non-null    object \n",
      " 15  genre                         800 non-null    object \n",
      " 16  unique_words                  800 non-null    int64  \n",
      " 17  total_words                   800 non-null    int64  \n",
      " 18  manual_love_count             800 non-null    int64  \n",
      " 19  manual_money_count            800 non-null    int64  \n",
      " 20  manual_violence_count         800 non-null    int64  \n",
      " 21  manual_drugs_count            800 non-null    int64  \n",
      " 22  manual_gendered_count         800 non-null    int64  \n",
      " 23  manual_sadness_count          800 non-null    int64  \n",
      " 24  manual_joy_count              800 non-null    int64  \n",
      " 25  manual_yes_count              800 non-null    int64  \n",
      " 26  manual_no_count               800 non-null    int64  \n",
      " 27  manual_love_word_percent      800 non-null    float64\n",
      " 28  manual_money_word_percent     800 non-null    float64\n",
      " 29  manual_violence_word_percent  800 non-null    float64\n",
      " 30  manual_drugs_word_percent     800 non-null    float64\n",
      " 31  manual_gendered_word_percent  800 non-null    float64\n",
      " 32  manual_sadness_word_percent   800 non-null    float64\n",
      " 33  manual_joy_word_percent       800 non-null    float64\n",
      " 34  manual_yes_word_percent       800 non-null    float64\n",
      " 35  manual_no_word_percent        800 non-null    float64\n",
      " 36  sentiment                     800 non-null    object \n",
      " 37  CC                            800 non-null    int64  \n",
      " 38  CD                            800 non-null    int64  \n",
      " 39  DT                            800 non-null    int64  \n",
      " 40  EX                            800 non-null    int64  \n",
      " 41  FW                            800 non-null    int64  \n",
      " 42  IN                            800 non-null    int64  \n",
      " 43  JJ                            800 non-null    int64  \n",
      " 44  JJR                           800 non-null    int64  \n",
      " 45  JJS                           800 non-null    int64  \n",
      " 46  LS                            800 non-null    int64  \n",
      " 47  MD                            800 non-null    int64  \n",
      " 48  NN                            800 non-null    int64  \n",
      " 49  NNS                           800 non-null    int64  \n",
      " 50  NNP                           800 non-null    int64  \n",
      " 51  NNPS                          800 non-null    int64  \n",
      " 52  PDT                           800 non-null    int64  \n",
      " 53  POS                           800 non-null    int64  \n",
      " 54  PRP                           800 non-null    int64  \n",
      " 55  PRP$                          800 non-null    int64  \n",
      " 56  RB                            800 non-null    int64  \n",
      " 57  RBR                           800 non-null    int64  \n",
      " 58  RBS                           800 non-null    int64  \n",
      " 59  RP                            800 non-null    int64  \n",
      " 60  TO                            800 non-null    int64  \n",
      " 61  UH                            800 non-null    int64  \n",
      " 62  VB                            800 non-null    int64  \n",
      " 63  VBD                           800 non-null    int64  \n",
      " 64  VBG                           800 non-null    int64  \n",
      " 65  VBN                           800 non-null    int64  \n",
      " 66  VBP                           800 non-null    int64  \n",
      " 67  VBZ                           800 non-null    int64  \n",
      " 68  WDT                           800 non-null    int64  \n",
      " 69  WP                            800 non-null    int64  \n",
      " 70  WP$                           800 non-null    int64  \n",
      " 71  WRB                           800 non-null    int64  \n",
      " 72  emotion                       800 non-null    object \n",
      "dtypes: float64(12), int64(50), object(11)\n",
      "memory usage: 462.5+ KB\n"
     ]
    }
   ],
   "source": [
    "counts_df.info()"
   ]
  },
  {
   "cell_type": "code",
   "execution_count": 5,
   "id": "42403d93-7b92-463b-a3fe-2dd5aa3b8cb9",
   "metadata": {},
   "outputs": [
    {
     "data": {
      "text/plain": [
       "Index(['Artist', 'Song Title', 'Full Title', 'Release Date', 'Year', 'Month',\n",
       "       'Day', 'Pageviews', 'url', 'featured_count', 'producer_count',\n",
       "       'writer_count', 'Song Lyrics', 'Artist Image', 'gender', 'genre',\n",
       "       'unique_words', 'total_words', 'manual_love_count',\n",
       "       'manual_money_count', 'manual_violence_count', 'manual_drugs_count',\n",
       "       'manual_gendered_count', 'manual_sadness_count', 'manual_joy_count',\n",
       "       'manual_yes_count', 'manual_no_count', 'manual_love_word_percent',\n",
       "       'manual_money_word_percent', 'manual_violence_word_percent',\n",
       "       'manual_drugs_word_percent', 'manual_gendered_word_percent',\n",
       "       'manual_sadness_word_percent', 'manual_joy_word_percent',\n",
       "       'manual_yes_word_percent', 'manual_no_word_percent', 'sentiment', 'CC',\n",
       "       'CD', 'DT', 'EX', 'FW', 'IN', 'JJ', 'JJR', 'JJS', 'LS', 'MD', 'NN',\n",
       "       'NNS', 'NNP', 'NNPS', 'PDT', 'POS', 'PRP', 'PRP$', 'RB', 'RBR', 'RBS',\n",
       "       'RP', 'TO', 'UH', 'VB', 'VBD', 'VBG', 'VBN', 'VBP', 'VBZ', 'WDT', 'WP',\n",
       "       'WP$', 'WRB', 'emotion'],\n",
       "      dtype='object')"
      ]
     },
     "execution_count": 5,
     "metadata": {},
     "output_type": "execute_result"
    }
   ],
   "source": [
    "counts_df.columns"
   ]
  },
  {
   "cell_type": "markdown",
   "id": "cd861296-fb19-4471-a5e8-2290af806531",
   "metadata": {},
   "source": [
    "### Select columns suitable for our ML tasks"
   ]
  },
  {
   "cell_type": "markdown",
   "id": "d8d1a4c4-92a3-4941-bf7a-062f6ca41aaa",
   "metadata": {},
   "source": [
    "#### check for NaNs"
   ]
  },
  {
   "cell_type": "code",
   "execution_count": 6,
   "id": "285915b6-7a28-428f-bc30-721f2b273aba",
   "metadata": {
    "scrolled": true
   },
   "outputs": [
    {
     "data": {
      "text/plain": [
       "Release Date               114\n",
       "Day                        114\n",
       "Month                       49\n",
       "Year                         6\n",
       "Artist                       0\n",
       "                          ... \n",
       "manual_joy_word_percent      0\n",
       "manual_yes_word_percent      0\n",
       "manual_no_word_percent       0\n",
       "Song Title                   0\n",
       "emotion                      0\n",
       "Length: 73, dtype: int64"
      ]
     },
     "execution_count": 6,
     "metadata": {},
     "output_type": "execute_result"
    }
   ],
   "source": [
    "counts_df.isna().sum().sort_values(ascending=False)"
   ]
  },
  {
   "cell_type": "markdown",
   "id": "5e55b5ac-8f46-4f0b-8643-1a2ae6cd4446",
   "metadata": {},
   "source": [
    "#### should we drop the rows with nulls or not?\n",
    "* month and day most likely provide little value\n",
    "* year could be usedful though, lets try dropping rows with null year\n",
    "* a better option could be to impute the year based on the artist or even manually fix these by checking the release dates"
   ]
  },
  {
   "cell_type": "code",
   "execution_count": 7,
   "id": "5c19a33a-3287-4afa-8bdc-2373951d4309",
   "metadata": {},
   "outputs": [],
   "source": [
    "counts_classif_cols = ['Year',\n",
    "                      'Pageviews', 'featured_count', 'producer_count', 'writer_count',\n",
    "                      'gender', 'genre', 'unique_words', 'total_words', \n",
    "                       'manual_love_count',\n",
    "                       'manual_money_count', 'manual_violence_count', 'manual_drugs_count',\n",
    "                       'manual_gendered_count', 'manual_sadness_count', 'manual_joy_count',\n",
    "                       'manual_yes_count', 'manual_no_count',\n",
    "                       'sentiment', 'emotion'\n",
    "                      ]\n",
    "counts_classif_cols_no_gender = [col for col in counts_classif_cols if col != 'gender']\n",
    "counts_classif_cols_no_genre = [col for col in counts_classif_cols if col != 'genre']\n",
    "counts_classif_cols_no_sentiment = [col for col in counts_classif_cols if col != 'sentiment']\n",
    "counts_classif_cols_no_emotion = [col for col in counts_classif_cols if col != 'emotion']"
   ]
  },
  {
   "cell_type": "code",
   "execution_count": 8,
   "id": "060e3382-cd57-496c-957d-533f1f8e973e",
   "metadata": {},
   "outputs": [],
   "source": [
    "classif_counts_df = counts_df[[*counts_classif_cols]]"
   ]
  },
  {
   "cell_type": "markdown",
   "id": "22ee8669-2c99-4456-83f5-082f870275e3",
   "metadata": {},
   "source": [
    "#### dropna"
   ]
  },
  {
   "cell_type": "code",
   "execution_count": 9,
   "id": "d28c9855-196a-481f-bf84-3331c7bba465",
   "metadata": {},
   "outputs": [
    {
     "name": "stderr",
     "output_type": "stream",
     "text": [
      "C:\\Users\\User\\AppData\\Local\\Temp\\ipykernel_14724\\988449719.py:1: SettingWithCopyWarning: \n",
      "A value is trying to be set on a copy of a slice from a DataFrame\n",
      "\n",
      "See the caveats in the documentation: https://pandas.pydata.org/pandas-docs/stable/user_guide/indexing.html#returning-a-view-versus-a-copy\n",
      "  classif_counts_df.dropna(inplace=True)\n"
     ]
    }
   ],
   "source": [
    "classif_counts_df.dropna(inplace=True)"
   ]
  },
  {
   "cell_type": "code",
   "execution_count": 10,
   "id": "bfe7eae8-989f-481f-a486-0770ec655950",
   "metadata": {},
   "outputs": [
    {
     "data": {
      "text/plain": [
       "(794, 20)"
      ]
     },
     "execution_count": 10,
     "metadata": {},
     "output_type": "execute_result"
    }
   ],
   "source": [
    "classif_counts_df.shape"
   ]
  },
  {
   "cell_type": "code",
   "execution_count": 38,
   "id": "e6798339-5a91-406a-93e7-df45492bae3c",
   "metadata": {},
   "outputs": [],
   "source": [
    "def train_classify_target(df, target_col, model, train_size=0.8, task='class'):\n",
    "    \"\"\"\n",
    "    Takes a dataframe, target column and model,\n",
    "    plus optionally train_size and tak\n",
    "    \n",
    "    if task set to 'class' will calculate classification metrics\n",
    "    if task set to 'regr' will calculate regression metrics!\n",
    "    \n",
    "    creates a train-test split,\n",
    "    preprocesses the (standard scaling and one-hot-encoding) pipeline,\n",
    "    calculates accuracy, f1, confusion matrix metrics,\n",
    "    returns the trained model and metrics\n",
    "\n",
    "    Caveats:\n",
    "        * Expects a df without NaNs, you have to choose columns / rows to drop / keep first\n",
    "        * The pipeline could be expanded\n",
    "\n",
    "    To be expanded:\n",
    "        * right now takes model, could possibly take model_type and hyperparams\n",
    "    \n",
    "    \"\"\"\n",
    "    y = df[target_col]\n",
    "    X = df.drop([target_col], axis=1)\n",
    "\n",
    "    X_train, X_valid, y_train, y_valid = train_test_split(X, y, train_size=train_size, test_size=(1-train_size))\n",
    "\n",
    "    categorical_cols = [cname for cname in X_train.columns if X_train[cname].dtype == \"object\"]\n",
    "    numerical_cols = [cname for cname in X_train.columns if X_train[cname].dtype in ['int64', 'float64']]\n",
    "\n",
    "    # Preprocessing transformers\n",
    "    numerical_transformer = StandardScaler()\n",
    "    \n",
    "    categorical_transformer = Pipeline(steps=[\n",
    "        ('onehot', OneHotEncoder(handle_unknown='ignore')),\n",
    "    ])\n",
    "\n",
    "    # combined preprocessor\n",
    "    preprocessor = ColumnTransformer(\n",
    "        transformers = [\n",
    "            ('num', numerical_transformer, numerical_cols),\n",
    "            ('cat', categorical_transformer, categorical_cols)\n",
    "        ]\n",
    "    )\n",
    "\n",
    "    # Bundle preprocessing and modeling code in a pipeline\n",
    "    train_pipeline = Pipeline(steps=[\n",
    "        ('preprocessor', preprocessor),\n",
    "        ('model', model)\n",
    "    ])\n",
    "    \n",
    "    # Preprocessing of training data, fit model \n",
    "    train_pipeline.fit(X_train, y_train)\n",
    "\n",
    "    # Preprocessing of validation data, get predictions\n",
    "    preds = train_pipeline.predict(X_valid)\n",
    "\n",
    "    # metrics\n",
    "    if task == 'class':\n",
    "        acc = accuracy_score(y_valid, preds)\n",
    "        f1 = f1_score(y_valid, preds, average=None, labels=model.classes_)\n",
    "        cm = confusion_matrix(y_valid, preds, labels=model.classes_)\n",
    "        labels = model.classes_\n",
    "\n",
    "        return acc, f1, cm, labels, model, preds, X_valid, y_valid, train_pipeline\n",
    "\n",
    "    if task == 'regr':\n",
    "        mae = mean_absolute_error(y_valid, preds)\n",
    "        r2 = r2_score(y_valid, preds)\n",
    "        return mae, r2, model"
   ]
  },
  {
   "cell_type": "code",
   "execution_count": 19,
   "id": "a2080572-51c7-4363-a90f-5bda51392808",
   "metadata": {},
   "outputs": [],
   "source": [
    "def display_confusion_matrix(cm, labels):\n",
    "    disp = ConfusionMatrixDisplay(confusion_matrix = cm,\n",
    "                             display_labels=labels\n",
    "                             )\n",
    "    disp_plot = disp.plot()\n",
    "    plt.show()"
   ]
  },
  {
   "cell_type": "markdown",
   "id": "5074b87c-d00e-4c86-8f43-8c1b733839e2",
   "metadata": {},
   "source": [
    "## Classify for genre"
   ]
  },
  {
   "cell_type": "markdown",
   "id": "2bb7e166-b2ad-4848-aa9a-2c028afe4e03",
   "metadata": {},
   "source": [
    "### by counts_df\n",
    "classif_counts_df, SVC, target='genre'"
   ]
  },
  {
   "cell_type": "code",
   "execution_count": 27,
   "id": "d4f17fc7-f8eb-4fb6-b209-d4360427d012",
   "metadata": {},
   "outputs": [],
   "source": [
    "model = SVC()"
   ]
  },
  {
   "cell_type": "code",
   "execution_count": 39,
   "id": "1ca1af91-b6e3-4fdf-8a94-ebadf0dcdb28",
   "metadata": {},
   "outputs": [],
   "source": [
    "acc, f1, cm, labels, model, preds, X_test, y_test, train_pipeline = train_classify_target(\n",
    "    df = classif_counts_df,\n",
    "    target_col = 'genre',\n",
    "    model = model\n",
    ")"
   ]
  },
  {
   "cell_type": "code",
   "execution_count": 23,
   "id": "824a9602-41c9-4446-b9d4-a33b3954a6e3",
   "metadata": {},
   "outputs": [
    {
     "data": {
      "image/png": "[encoded data removed]",
      "text/plain": [
       "<Figure size 640x480 with 2 Axes>"
      ]
     },
     "metadata": {},
     "output_type": "display_data"
    }
   ],
   "source": [
    "display_confusion_matrix(cm, labels)"
   ]
  },
  {
   "cell_type": "code",
   "execution_count": 24,
   "id": "22b641fc-a95f-41e1-b418-c7b5040d20bf",
   "metadata": {},
   "outputs": [
    {
     "name": "stdout",
     "output_type": "stream",
     "text": [
      "0.8805031446540881\n",
      "[0.93333333 0.90909091 0.79452055 0.88172043]\n"
     ]
    }
   ],
   "source": [
    "print(acc)\n",
    "print(f1)"
   ]
  },
  {
   "cell_type": "code",
   "execution_count": 44,
   "id": "775a78e0-b51b-430b-ae88-f745e3af4ac6",
   "metadata": {},
   "outputs": [],
   "source": [
    "test_index = X_test.head(1).index"
   ]
  },
  {
   "cell_type": "code",
   "execution_count": 53,
   "id": "f59aa4aa-c691-4f1e-b1f9-e054fc99598a",
   "metadata": {},
   "outputs": [
    {
     "data": {
      "text/plain": [
       "Index(['Artist', 'Song Title', 'Full Title', 'Release Date', 'Year', 'Month',\n",
       "       'Day', 'Pageviews', 'url', 'featured_count', 'producer_count',\n",
       "       'writer_count', 'Song Lyrics', 'Artist Image', 'gender', 'genre',\n",
       "       'unique_words', 'total_words', 'manual_love_count',\n",
       "       'manual_money_count', 'manual_violence_count', 'manual_drugs_count',\n",
       "       'manual_gendered_count', 'manual_sadness_count', 'manual_joy_count',\n",
       "       'manual_yes_count', 'manual_no_count', 'manual_love_word_percent',\n",
       "       'manual_money_word_percent', 'manual_violence_word_percent',\n",
       "       'manual_drugs_word_percent', 'manual_gendered_word_percent',\n",
       "       'manual_sadness_word_percent', 'manual_joy_word_percent',\n",
       "       'manual_yes_word_percent', 'manual_no_word_percent', 'sentiment', 'CC',\n",
       "       'CD', 'DT', 'EX', 'FW', 'IN', 'JJ', 'JJR', 'JJS', 'LS', 'MD', 'NN',\n",
       "       'NNS', 'NNP', 'NNPS', 'PDT', 'POS', 'PRP', 'PRP$', 'RB', 'RBR', 'RBS',\n",
       "       'RP', 'TO', 'UH', 'VB', 'VBD', 'VBG', 'VBN', 'VBP', 'VBZ', 'WDT', 'WP',\n",
       "       'WP$', 'WRB', 'emotion'],\n",
       "      dtype='object')"
      ]
     },
     "execution_count": 53,
     "metadata": {},
     "output_type": "execute_result"
    }
   ],
   "source": [
    "counts_df.columns"
   ]
  },
  {
   "cell_type": "code",
   "execution_count": 59,
   "id": "e318caef-b9f2-4f5e-8a8c-7a6bee23fa75",
   "metadata": {},
   "outputs": [
    {
     "name": "stdout",
     "output_type": "stream",
     "text": [
      "       Artist Song Title                                        Song Lyrics  \\\n",
      "109  Dua Lipa   Homesick   here where the skys falling im covered in blu...   \n",
      "\n",
      "    genre  \n",
      "109   pop  \n",
      "       Year  Pageviews  featured_count  producer_count  writer_count  gender  \\\n",
      "109  2017.0     426137               0               1             2  female   \n",
      "\n",
      "     unique_words  total_words  manual_love_count  manual_money_count  \\\n",
      "109            78          301                  2                   0   \n",
      "\n",
      "     manual_violence_count  manual_drugs_count  manual_gendered_count  \\\n",
      "109                      0                   0                     32   \n",
      "\n",
      "     manual_sadness_count  manual_joy_count  manual_yes_count  \\\n",
      "109                     3                 0                 0   \n",
      "\n",
      "     manual_no_count sentiment emotion  \n",
      "109               23  Positive    love  \n",
      "['pop']\n"
     ]
    }
   ],
   "source": [
    "print(counts_df.loc[test_index, ['Artist', 'Song Title', 'Song Lyrics', 'genre']])\n",
    "print(X_test.loc[test_index, :])\n",
    "prediction = train_pipeline.predict(X_test.loc[test_index, :])\n",
    "print(prediction)"
   ]
  },
  {
   "cell_type": "markdown",
   "id": "e04c8fbf-b871-4eb1-8685-8b12cc891768",
   "metadata": {},
   "source": [
    "### Classify for gender"
   ]
  },
  {
   "cell_type": "code",
   "execution_count": null,
   "id": "89992020-4167-404f-8f1c-7dad42b8cb87",
   "metadata": {},
   "outputs": [],
   "source": [
    "model = SVC()\n",
    "acc, f1, cm, labels, trained_model = train_classify_target(\n",
    "    df = classif_counts_df,\n",
    "    target_col = 'gender',\n",
    "    model = model\n",
    ")\n",
    "display_confusion_matrix(cm, labels)\n",
    "print(acc)\n",
    "print(f1)"
   ]
  },
  {
   "cell_type": "markdown",
   "id": "d14d88e2-03f5-4faf-85a3-81cb376dee58",
   "metadata": {},
   "source": [
    "### Classify for sentiment"
   ]
  },
  {
   "cell_type": "code",
   "execution_count": null,
   "id": "95c6bd23-0b1f-4c4d-9d56-33945ce8aa8b",
   "metadata": {},
   "outputs": [],
   "source": [
    "model = SVC()\n",
    "acc, f1, cm, labels, trained_model = train_classify_target(\n",
    "    df = classif_counts_df,\n",
    "    target_col = 'sentiment',\n",
    "    model = model\n",
    ")\n",
    "display_confusion_matrix(cm, labels)\n",
    "print(acc)\n",
    "print(f1)"
   ]
  },
  {
   "cell_type": "markdown",
   "id": "56d490e0-87f1-4da0-8103-f4986d587b3f",
   "metadata": {},
   "source": [
    "### Classify for emotion"
   ]
  },
  {
   "cell_type": "code",
   "execution_count": null,
   "id": "c31a08d7-a1d7-48b5-889c-5954118477af",
   "metadata": {},
   "outputs": [],
   "source": [
    "model = SVC()\n",
    "acc, f1, cm, labels, trained_model = train_classify_target(\n",
    "    df = classif_counts_df,\n",
    "    target_col = 'emotion',\n",
    "    model = model\n",
    ")\n",
    "display_confusion_matrix(cm, labels)\n",
    "print(acc)\n",
    "print(f1)"
   ]
  },
  {
   "cell_type": "markdown",
   "id": "f670bf8a-d753-4063-95b1-651514f9af2f",
   "metadata": {},
   "source": [
    "### Classify for artist"
   ]
  },
  {
   "cell_type": "code",
   "execution_count": null,
   "id": "0928a8b3-0c4c-497a-8bf3-a14e4ad234bd",
   "metadata": {},
   "outputs": [],
   "source": [
    "counts_classif_cols_artist  = [*counts_classif_cols, 'Artist']\n",
    "counts_classif_cols_artist"
   ]
  },
  {
   "cell_type": "code",
   "execution_count": null,
   "id": "3c95681a-aedb-40da-ab02-05cfa88447d4",
   "metadata": {},
   "outputs": [],
   "source": [
    "classif_counts_artist_df = counts_df[[*counts_classif_cols_artist]]\n",
    "classif_counts_artist_df.dropna(inplace=True)"
   ]
  },
  {
   "cell_type": "code",
   "execution_count": null,
   "id": "58c39837-5af4-4f64-a97d-8e3b7f50d85c",
   "metadata": {},
   "outputs": [],
   "source": [
    "model = SVC()\n",
    "acc, f1, cm, labels, trained_model = train_classify_target(\n",
    "    df = classif_counts_artist_df,\n",
    "    target_col = 'Artist',\n",
    "    model = model\n",
    ")\n",
    "display_confusion_matrix(cm, labels)\n",
    "print(acc)\n",
    "print(f1)"
   ]
  },
  {
   "cell_type": "markdown",
   "id": "864ea2fc-9223-4282-97b2-f7b0005c03a3",
   "metadata": {},
   "source": [
    "### classify genre from groupby mean data\n",
    "hold on though - it has to be artist means, if you just get genre means, thats 4 rows of data"
   ]
  },
  {
   "cell_type": "code",
   "execution_count": null,
   "id": "3c5168a3-c765-4560-bdfd-e82a05ce4c6c",
   "metadata": {},
   "outputs": [],
   "source": [
    "# genre_mean_df.head().columns"
   ]
  },
  {
   "cell_type": "code",
   "execution_count": null,
   "id": "918882ba-4aab-4946-8933-2d5498080fab",
   "metadata": {},
   "outputs": [],
   "source": [
    "# genre_mean_df['genre'] = genre_mean_df.index"
   ]
  },
  {
   "cell_type": "code",
   "execution_count": null,
   "id": "af06ebb2-c405-461f-90dd-d18bdaca234f",
   "metadata": {},
   "outputs": [],
   "source": [
    "artist_genre_mean_df.columns"
   ]
  },
  {
   "cell_type": "code",
   "execution_count": null,
   "id": "18917532-531e-45c4-9f96-aacdc7c31719",
   "metadata": {
    "scrolled": true
   },
   "outputs": [],
   "source": [
    "no_artist_genre_mean_df = artist_genre_mean_df.drop(['Artist'], axis=1)"
   ]
  },
  {
   "cell_type": "code",
   "execution_count": null,
   "id": "25685be7-2439-4760-ae80-d96a35b98d4d",
   "metadata": {},
   "outputs": [],
   "source": [
    "model = SVC()\n",
    "acc, f1, cm, labels, trained_model = train_classify_target(\n",
    "    df = no_artist_genre_mean_df,\n",
    "    target_col = 'genre',\n",
    "    model = model\n",
    ")\n",
    "display_confusion_matrix(cm, labels)\n",
    "print(acc)\n",
    "print(f1)"
   ]
  },
  {
   "cell_type": "markdown",
   "id": "cc18b6b4-6b44-4397-95d4-f5e0dc781fd0",
   "metadata": {},
   "source": [
    "### classify for decade from decades counts df"
   ]
  },
  {
   "cell_type": "code",
   "execution_count": null,
   "id": "83cd1fc3-b55b-4d88-9abc-fb386b9c4a80",
   "metadata": {},
   "outputs": [],
   "source": [
    "decades_counts_df.columns"
   ]
  },
  {
   "cell_type": "code",
   "execution_count": null,
   "id": "68163cfc-c205-497a-a134-7f6e5d6fd7a2",
   "metadata": {},
   "outputs": [],
   "source": [
    "decades_classif_cols = [\n",
    "    'Year',\n",
    "    'Pageviews',\n",
    "    'featured_count', 'producer_count', 'writer_count',\n",
    "    'unique_words', 'total_words',\n",
    "    'manual_love_count', 'manual_swears_count',\n",
    "   'manual_money_count', 'manual_violence_count', 'manual_drugs_count',\n",
    "   'manual_gendered_count', 'manual_sadness_count', 'manual_joy_count',\n",
    "   'manual_yes_count', 'manual_no_count', 'decade', 'sentiment'\n",
    "]"
   ]
  },
  {
   "cell_type": "code",
   "execution_count": null,
   "id": "0f45ce90-17c2-4042-bd81-c1563061d698",
   "metadata": {},
   "outputs": [],
   "source": [
    "decades_classif_df = decades_counts_df[[*decades_classif_cols]]"
   ]
  },
  {
   "cell_type": "code",
   "execution_count": null,
   "id": "0d499bd0-fadf-4dd0-90df-27d560867a61",
   "metadata": {
    "scrolled": true
   },
   "outputs": [],
   "source": [
    "decades_classif_df.isna().sum().sort_values(ascending=False)"
   ]
  },
  {
   "cell_type": "code",
   "execution_count": null,
   "id": "3923aeae-9233-4ef6-acdd-21978a63afab",
   "metadata": {},
   "outputs": [],
   "source": [
    "decades_classif_df.dropna(inplace=True)"
   ]
  },
  {
   "cell_type": "code",
   "execution_count": null,
   "id": "8f6fa07d-3aa7-4e7e-b8cd-3b8045105f83",
   "metadata": {},
   "outputs": [],
   "source": [
    "decades_classif_df.shape"
   ]
  },
  {
   "cell_type": "code",
   "execution_count": null,
   "id": "72acbc0f-871e-489d-a9b0-b15b81ce2e56",
   "metadata": {},
   "outputs": [],
   "source": [
    "model = SVC()\n",
    "acc, f1, cm, labels, trained_model = train_classify_target(\n",
    "    df = decades_classif_df,\n",
    "    target_col = 'decade',\n",
    "    model = model\n",
    ")\n",
    "display_confusion_matrix(cm, labels)\n",
    "print(acc)\n",
    "print(f1)"
   ]
  },
  {
   "cell_type": "markdown",
   "id": "999930d5-8f6f-462e-b931-2eb019d28a8e",
   "metadata": {},
   "source": [
    "## Regression"
   ]
  },
  {
   "cell_type": "markdown",
   "id": "fcb946ee-975a-49ef-aec6-e2705411d3dc",
   "metadata": {},
   "source": [
    "### regress for unique_words on counts"
   ]
  },
  {
   "cell_type": "code",
   "execution_count": null,
   "id": "1b2f18db-cc43-4af2-afec-e911af3b66f6",
   "metadata": {},
   "outputs": [],
   "source": [
    "model = SVR()\n",
    "mae, r2, trained_model = train_classify_target(\n",
    "    df = classif_counts_df,\n",
    "    target_col = 'unique_words',\n",
    "    model = model,\n",
    "    task = 'regr'\n",
    ")\n",
    "# display_confusion_matrix(cm, labels)\n",
    "print(mae)\n",
    "print(r2)"
   ]
  },
  {
   "cell_type": "markdown",
   "id": "4b09b290-a7b7-43bd-86d3-cc72c1ad7d5a",
   "metadata": {},
   "source": [
    "### regress for manual_love_count on counts"
   ]
  },
  {
   "cell_type": "code",
   "execution_count": null,
   "id": "6f2e2471-5ea5-413d-bbb4-70b16c0ed871",
   "metadata": {},
   "outputs": [],
   "source": [
    "model = SVR()\n",
    "mae, r2, trained_model = train_classify_target(\n",
    "    df = classif_counts_df,\n",
    "    target_col = 'manual_love_count',\n",
    "    model = model,\n",
    "    task = 'regr'\n",
    ")\n",
    "# display_confusion_matrix(cm, labels)\n",
    "print(mae)\n",
    "print(r2)"
   ]
  },
  {
   "cell_type": "markdown",
   "id": "b63bc859-74bb-48a8-bfa7-a7899f2e283b",
   "metadata": {},
   "source": [
    "#### TODO: testing some predictions\n",
    "would need to pass the sample to test on on the same preprocessing steps taken during trainign\n",
    "probably not that hard with a pipeline\n",
    "and could be written as a pretty universal function\n"
   ]
  },
  {
   "cell_type": "code",
   "execution_count": null,
   "id": "ec4a42d2-576f-4ec9-8aed-75486c9e260d",
   "metadata": {},
   "outputs": [],
   "source": []
  },
  {
   "cell_type": "markdown",
   "id": "73f98ba7-387b-40ad-8255-74ac5745579f",
   "metadata": {
    "jp-MarkdownHeadingCollapsed": true
   },
   "source": [
    "## Manual Tests"
   ]
  },
  {
   "cell_type": "markdown",
   "id": "cb651485-2aa3-4807-aec7-9f710a059b5a",
   "metadata": {},
   "source": [
    "### Get columns of type object and one-hot encode"
   ]
  },
  {
   "cell_type": "markdown",
   "id": "f85b96e3-1250-4ed8-8919-fa47dca614fa",
   "metadata": {},
   "source": [
    "#### object_cols"
   ]
  },
  {
   "cell_type": "code",
   "execution_count": null,
   "id": "7c566072-bd54-4316-a8c0-c6154ccfcea4",
   "metadata": {},
   "outputs": [],
   "source": [
    "# Get list of categorical variables\n",
    "s = (classif_counts_df.dtypes == 'object')\n",
    "object_cols = list(s[s].index)\n",
    "\n",
    "print(\"Categorical variables:\")\n",
    "print(object_cols)\n",
    "\n",
    "OH_encoder = OneHotEncoder(handle_unknown='ignore', sparse=False)"
   ]
  },
  {
   "cell_type": "markdown",
   "id": "f6c31712-105f-4885-b6ae-cb75685e5095",
   "metadata": {},
   "source": [
    "### Example for genre classification"
   ]
  },
  {
   "cell_type": "markdown",
   "id": "9b2e5f3c-0ca6-4196-b768-1525f215b132",
   "metadata": {},
   "source": [
    "##### select columns"
   ]
  },
  {
   "cell_type": "code",
   "execution_count": null,
   "id": "0553a695-8c5f-436a-bc1a-3ce7d5cbf67f",
   "metadata": {},
   "outputs": [],
   "source": [
    "genre_classif_X = classif_counts_df[[*counts_classif_cols_no_genre]]\n",
    "genre_classif_y = classif_counts_df[['genre']]"
   ]
  },
  {
   "cell_type": "code",
   "execution_count": null,
   "id": "8bfb9bc9-d8b1-4e6d-b02c-5ce1b914a7d1",
   "metadata": {},
   "outputs": [],
   "source": [
    "genre_classif_X"
   ]
  },
  {
   "cell_type": "code",
   "execution_count": null,
   "id": "4f8ba667-b69f-4102-b119-c2fe36fb49f7",
   "metadata": {},
   "outputs": [],
   "source": [
    "genre_classif_y"
   ]
  },
  {
   "cell_type": "markdown",
   "id": "e78279e1-ad58-49db-b6b3-d3b12e8374fc",
   "metadata": {},
   "source": [
    "#### train-test split"
   ]
  },
  {
   "cell_type": "code",
   "execution_count": null,
   "id": "1ad35aec-6742-427e-88ad-d7c0fdc7ef5e",
   "metadata": {},
   "outputs": [],
   "source": [
    "X_train_genre, X_test_genre, y_train_genre, y_test_genre = train_test_split(\n",
    "    genre_classif_X,\n",
    "    genre_classif_y,\n",
    "    train_size=0.8,\n",
    "    test_size=0.2,\n",
    "    shuffle=True\n",
    ")"
   ]
  },
  {
   "cell_type": "code",
   "execution_count": null,
   "id": "bd716dcd-7216-421b-b2bb-8b72aeb431c8",
   "metadata": {},
   "outputs": [],
   "source": [
    "object_cols_no_genre = ['gender', 'sentiment', 'emotion']"
   ]
  },
  {
   "cell_type": "code",
   "execution_count": null,
   "id": "d1841ca8-7f73-4f12-ae71-d7eda0ea1a0e",
   "metadata": {},
   "outputs": [],
   "source": [
    "# Apply one-hot encoder to each column with categorical data\n",
    "OH_encoder = OneHotEncoder(handle_unknown='ignore', sparse=False)\n",
    "OH_cols_train_genre = pd.DataFrame(OH_encoder.fit_transform(X_train_genre[[*object_cols_no_genre]]))\n",
    "OH_cols_test_genre = pd.DataFrame(OH_encoder.transform(X_test_genre[[*object_cols_no_genre]]))\n",
    "\n",
    "# One-hot encoding removed index; put it back\n",
    "OH_cols_train_genre.index = X_train_genre.index\n",
    "OH_cols_test_genre.index = X_test_genre.index\n",
    "\n",
    "# Remove categorical columns (will replace with one-hot encoding)\n",
    "num_X_train_genre = X_train_genre.drop(object_cols_no_genre, axis=1)\n",
    "num_X_test_genre = X_test_genre.drop(object_cols_no_genre, axis=1)\n",
    "\n",
    "# Add one-hot encoded columns to numerical features\n",
    "OH_X_train_genre = pd.concat([num_X_train_genre, OH_cols_train_genre], axis=1)\n",
    "OH_X_test_genre = pd.concat([num_X_test_genre, OH_cols_test_genre], axis=1)\n",
    "\n",
    "# !!\n",
    "# Ensure all columns have string type\n",
    "OH_X_train_genre.columns = OH_X_train_genre.columns.astype(str)\n",
    "OH_X_test_genre.columns = OH_X_test_genre.columns.astype(str)\n"
   ]
  },
  {
   "cell_type": "code",
   "execution_count": null,
   "id": "644d5eb6-785e-40bf-96e5-e2d4b302fca6",
   "metadata": {},
   "outputs": [],
   "source": [
    "model_genre_1_preds = model_genre_1.predict(OH_X_test_genre)"
   ]
  },
  {
   "cell_type": "code",
   "execution_count": null,
   "id": "034c4b43-8491-4884-9f9a-26fcb2c6a31c",
   "metadata": {},
   "outputs": [],
   "source": [
    "f1_score(y_test_genre, model_genre_1_preds, average=None)"
   ]
  },
  {
   "cell_type": "code",
   "execution_count": null,
   "id": "2a0b9b0f-54ed-4fd1-bf3e-4e855637ee57",
   "metadata": {},
   "outputs": [],
   "source": [
    "accuracy_score(y_test_genre, model_genre_1_preds)"
   ]
  },
  {
   "cell_type": "code",
   "execution_count": null,
   "id": "156c9fe8-8dc5-4da2-984c-b03ce6ad1bb2",
   "metadata": {},
   "outputs": [],
   "source": [
    "y_test_genre"
   ]
  },
  {
   "cell_type": "code",
   "execution_count": null,
   "id": "51e562f0-7fc5-4bd3-accc-b3f718f0ad5d",
   "metadata": {},
   "outputs": [],
   "source": [
    "genres = list(y_test_genre.genre.unique())"
   ]
  },
  {
   "cell_type": "code",
   "execution_count": null,
   "id": "1a8a23b4-1a47-44d6-a249-f6ee68c475ca",
   "metadata": {},
   "outputs": [],
   "source": [
    "cm = confusion_matrix(y_test_genre, model_genre_1_preds, labels=model_genre_1.classes_)"
   ]
  },
  {
   "cell_type": "code",
   "execution_count": null,
   "id": "adebe6fe-8978-43b3-a518-81b9d7ffaca3",
   "metadata": {},
   "outputs": [],
   "source": [
    "cr = classification_report(y_test_genre, model_genre_1_preds, labels=model_genre_1.classes_)"
   ]
  },
  {
   "cell_type": "code",
   "execution_count": null,
   "id": "47f2c9c0-e277-4b19-9389-14ce80dc0e17",
   "metadata": {},
   "outputs": [],
   "source": [
    "disp = ConfusionMatrixDisplay(confusion_matrix = cm,\n",
    "                             display_labels=model_genre_1.classes_\n",
    "                             )"
   ]
  },
  {
   "cell_type": "code",
   "execution_count": null,
   "id": "52441e4f-fd8a-46bd-a0e6-37c58fc977d7",
   "metadata": {},
   "outputs": [],
   "source": [
    "disp.plot()"
   ]
  },
  {
   "cell_type": "markdown",
   "id": "c48229b8-fe1b-4226-9a93-8c916fc3eea9",
   "metadata": {},
   "source": [
    "#### numerical cols scaling test"
   ]
  },
  {
   "cell_type": "code",
   "execution_count": null,
   "id": "9619183c-ea0e-424f-93e6-afd46719ced6",
   "metadata": {},
   "outputs": [],
   "source": [
    "numerical_cols = [cname for cname in X_train_genre.columns if X_train_genre[cname].dtype in ['int64', 'float64']]\n",
    "\n",
    "# Remove categorical columns (will replace with one-hot encoding)\n",
    "num_X_train_genre = X_train_genre.drop(object_cols_no_genre, axis=1)\n",
    "num_X_test_genre = X_test_genre.drop(object_cols_no_genre, axis=1)\n",
    "\n",
    "# scaling\n",
    "scaler = StandardScaler().fit(num_X_train_genre)\n",
    "num_X_train_genre = pd.DataFrame(scaler.transform(num_X_train_genre))\n",
    "num_X_test_genre = pd.DataFrame(scaler.transform(num_X_test_genre))\n",
    "\n",
    "# Add one-hot encoded columns to numerical features\n",
    "OH_X_train_genre = pd.concat([num_X_train_genre, OH_cols_train_genre], axis=1)\n",
    "OH_X_test_genre = pd.concat([num_X_test_genre, OH_cols_test_genre], axis=1)\n",
    "\n",
    "# !!\n",
    "# Ensure all columns have string type\n",
    "OH_X_train_genre.columns = OH_X_train_genre.columns.astype(str)\n",
    "OH_X_test_genre.columns = OH_X_test_genre.columns.astype(str)"
   ]
  },
  {
   "cell_type": "code",
   "execution_count": null,
   "id": "0712babc-fd08-483d-90b8-2025e3916115",
   "metadata": {},
   "outputs": [],
   "source": [
    "model_genre_1 = SVC()\n",
    "model_genre_1.fit(OH_X_train_genre, y_train_genre)\n",
    "\n",
    "model_genre_1_preds = model_genre_1.predict(OH_X_test_genre)\n",
    "\n",
    "acc = accuracy_score(y_test_genre, model_genre_1_preds)\n",
    "cm = confusion_matrix(y_test_genre, model_genre_1_preds, labels=model_genre_1.classes_)\n",
    "\n",
    "print(acc)\n",
    "\n",
    "disp = ConfusionMatrixDisplay(confusion_matrix = cm,\n",
    "                             display_labels=model_genre_1.classes_\n",
    "                             )"
   ]
  },
  {
   "cell_type": "markdown",
   "id": "18024e42-3efd-4a15-b91b-5455a2a86b3c",
   "metadata": {},
   "source": [
    "### Pipelines test, cause this is bullshit\n",
    "\n",
    "like we're just starting"
   ]
  },
  {
   "cell_type": "code",
   "execution_count": null,
   "id": "904f76b5-150f-47bf-807a-32beaece9b24",
   "metadata": {},
   "outputs": [],
   "source": [
    "counts_df_pre_pipe = counts_df[counts_classif_cols]\n",
    "counts_df_pre_pipe.dropna(inplace=True)\n",
    "\n",
    "y = counts_df_pre_pipe.genre\n",
    "X = counts_df_pre_pipe.drop(['genre'], axis=1)\n",
    "\n",
    "X_train, X_valid, y_train, y_valid = train_test_split(X, y, train_size=0.8, test_size=0.2)"
   ]
  },
  {
   "cell_type": "markdown",
   "id": "00a8ef87-8fb7-46b4-bef9-5961592b3b96",
   "metadata": {},
   "source": [
    "#### Important: get the categorical columns only after removing the target feature\n",
    "- makes your life so much easier to just do it in that order for every feature"
   ]
  },
  {
   "cell_type": "code",
   "execution_count": null,
   "id": "53ea4bb4-da37-412e-ba03-1f5493a82ab5",
   "metadata": {},
   "outputs": [],
   "source": [
    "categorical_cols = [cname for cname in X_train.columns if X_train[cname].dtype == \"object\"]\n",
    "numerical_cols = [cname for cname in X_train.columns if X_train[cname].dtype in ['int64', 'float64']]\n",
    "\n",
    "# Preprocessing for numerical data\n",
    "numerical_transformer = StandardScaler()\n",
    "\n",
    "categorical_transformer = Pipeline(steps=[\n",
    "    ('onehot', OneHotEncoder(handle_unknown='ignore')),\n",
    "])\n",
    "\n",
    "preprocessor = ColumnTransformer(\n",
    "    transformers = [\n",
    "        ('num', numerical_transformer, numerical_cols),\n",
    "        ('cat', categorical_transformer, categorical_cols)\n",
    "    ]\n",
    ")\n",
    "\n",
    "# training pipeline\n",
    "# Bundle preprocessing and modeling code in a pipeline\n",
    "model = SVC()\n",
    "\n",
    "train_pipeline = Pipeline(steps=[\n",
    "    ('preprocessor', preprocessor),\n",
    "    ('model', model)\n",
    "])\n",
    "\n",
    "train_pipeline.fit(X_train, y_train)\n",
    "\n",
    "preds = train_pipeline.predict(X_valid)\n",
    "\n",
    "acc = accuracy_score(y_valid, preds)\n",
    "cm = confusion_matrix(y_valid, preds, labels=model.classes_)\n",
    "\n",
    "print(acc)\n",
    "\n",
    "disp = ConfusionMatrixDisplay(confusion_matrix = cm,\n",
    "                             display_labels=model.classes_\n",
    "                             )\n",
    "\n",
    "disp.plot()"
   ]
  }
 ],
 "metadata": {
  "kernelspec": {
   "display_name": "data_venv",
   "language": "python",
   "name": "data_venv"
  },
  "language_info": {
   "codemirror_mode": {
    "name": "ipython",
    "version": 3
   },
   "file_extension": ".py",
   "mimetype": "text/x-python",
   "name": "python",
   "nbconvert_exporter": "python",
   "pygments_lexer": "ipython3",
   "version": "3.10.9"
  }
 },
 "nbformat": 4,
 "nbformat_minor": 5
}
